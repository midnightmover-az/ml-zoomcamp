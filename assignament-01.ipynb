{
 "cells": [
  {
   "cell_type": "markdown",
   "id": "1eb7b853-b728-43bd-ac0b-267b124b9f74",
   "metadata": {},
   "source": [
    "Question 2: Number of columns in the dataset "
   ]
  },
  {
   "cell_type": "code",
   "execution_count": 1,
   "id": "cb7c4820-16d6-45de-adbf-18e1b078c9dd",
   "metadata": {},
   "outputs": [
    {
     "name": "stdout",
     "output_type": "stream",
     "text": [
      "Pandas version = 2.1.0\n",
      "\n",
      "       longitude  latitude  housing_median_age  total_rooms  total_bedrooms  \\\n",
      "0        -122.23     37.88                41.0        880.0           129.0   \n",
      "1        -122.22     37.86                21.0       7099.0          1106.0   \n",
      "2        -122.24     37.85                52.0       1467.0           190.0   \n",
      "3        -122.25     37.85                52.0       1274.0           235.0   \n",
      "4        -122.25     37.85                52.0       1627.0           280.0   \n",
      "...          ...       ...                 ...          ...             ...   \n",
      "20635    -121.09     39.48                25.0       1665.0           374.0   \n",
      "20636    -121.21     39.49                18.0        697.0           150.0   \n",
      "20637    -121.22     39.43                17.0       2254.0           485.0   \n",
      "20638    -121.32     39.43                18.0       1860.0           409.0   \n",
      "20639    -121.24     39.37                16.0       2785.0           616.0   \n",
      "\n",
      "       population  households  median_income  median_house_value  \\\n",
      "0           322.0       126.0         8.3252            452600.0   \n",
      "1          2401.0      1138.0         8.3014            358500.0   \n",
      "2           496.0       177.0         7.2574            352100.0   \n",
      "3           558.0       219.0         5.6431            341300.0   \n",
      "4           565.0       259.0         3.8462            342200.0   \n",
      "...           ...         ...            ...                 ...   \n",
      "20635       845.0       330.0         1.5603             78100.0   \n",
      "20636       356.0       114.0         2.5568             77100.0   \n",
      "20637      1007.0       433.0         1.7000             92300.0   \n",
      "20638       741.0       349.0         1.8672             84700.0   \n",
      "20639      1387.0       530.0         2.3886             89400.0   \n",
      "\n",
      "      ocean_proximity  \n",
      "0            NEAR BAY  \n",
      "1            NEAR BAY  \n",
      "2            NEAR BAY  \n",
      "3            NEAR BAY  \n",
      "4            NEAR BAY  \n",
      "...               ...  \n",
      "20635          INLAND  \n",
      "20636          INLAND  \n",
      "20637          INLAND  \n",
      "20638          INLAND  \n",
      "20639          INLAND  \n",
      "\n",
      "[20640 rows x 10 columns]\n",
      "Number of Rows:  20640\n",
      "Number of Columns:  10\n"
     ]
    }
   ],
   "source": [
    "import pandas as pd\n",
    "import numpy as np\n",
    "\n",
    "pandas_version = pd.__version__\n",
    "\n",
    "print( 'Pandas version = ' + pandas_version + '\\n' )\n",
    "\n",
    "df = pd.read_csv('housing.csv')\n",
    "\n",
    "# computing number of rows\n",
    "rows = len(df.axes[0])\n",
    " \n",
    "# computing number of columns\n",
    "cols = len(df.axes[1])\n",
    " \n",
    "print(df)\n",
    "print(\"Number of Rows: \", rows)\n",
    "print(\"Number of Columns: \", cols)\n",
    "\n"
   ]
  },
  {
   "cell_type": "markdown",
   "id": "6ddc1d29-f501-4e86-88f6-e5e58da27718",
   "metadata": {},
   "source": [
    "Question 3: Select columns with missing data *"
   ]
  },
  {
   "cell_type": "code",
   "execution_count": 2,
   "id": "cbfa389b-a790-4256-84f6-8338d09bfeb3",
   "metadata": {},
   "outputs": [
    {
     "data": {
      "text/plain": [
       "longitude               0\n",
       "latitude                0\n",
       "housing_median_age      0\n",
       "total_rooms             0\n",
       "total_bedrooms        207\n",
       "population              0\n",
       "households              0\n",
       "median_income           0\n",
       "median_house_value      0\n",
       "ocean_proximity         0\n",
       "dtype: int64"
      ]
     },
     "execution_count": 2,
     "metadata": {},
     "output_type": "execute_result"
    }
   ],
   "source": [
    "df.isnull().sum()"
   ]
  },
  {
   "cell_type": "markdown",
   "id": "abcddab3-7998-41c8-8c05-d9edf33a6ed3",
   "metadata": {},
   "source": [
    "Question 4: Number of unique values in the 'ocean_proximity' column *"
   ]
  },
  {
   "cell_type": "code",
   "execution_count": 3,
   "id": "fe798deb-6743-49d2-a9d5-560e4866d3cd",
   "metadata": {},
   "outputs": [
    {
     "data": {
      "text/plain": [
       "5"
      ]
     },
     "execution_count": 3,
     "metadata": {},
     "output_type": "execute_result"
    }
   ],
   "source": [
    "df[ 'ocean_proximity' ].nunique()"
   ]
  },
  {
   "cell_type": "markdown",
   "id": "8aeb7a14-75cc-4200-ba6a-5bda9e00687e",
   "metadata": {},
   "source": [
    "Question 5: Average value of the 'median_house_value' for the houses near the bay"
   ]
  },
  {
   "cell_type": "code",
   "execution_count": 4,
   "id": "8b50867c-20cf-4c85-9ac5-61078ae1aca1",
   "metadata": {},
   "outputs": [],
   "source": [
    "#df[ 'median_house_value' ]"
   ]
  },
  {
   "cell_type": "code",
   "execution_count": 5,
   "id": "1fb4ba60-3b9f-49af-bd35-4b247597ba2f",
   "metadata": {},
   "outputs": [
    {
     "data": {
      "text/plain": [
       "259212.31179039303"
      ]
     },
     "execution_count": 5,
     "metadata": {},
     "output_type": "execute_result"
    }
   ],
   "source": [
    "df[ df['ocean_proximity'] == 'NEAR BAY' ]['median_house_value'].mean()"
   ]
  },
  {
   "cell_type": "markdown",
   "id": "c8dd3453-020d-4078-8ecc-0ef5f2bf786b",
   "metadata": {},
   "source": [
    "Question 6\n",
    "    Calculate the average of total_bedrooms column in the dataset.\n",
    "    Use the fillna method to fill the missing values in total_bedrooms with the mean value from the previous step.\n",
    "    Now, calculate the average of total_bedrooms again.\n",
    "    Has it changed?\n"
   ]
  },
  {
   "cell_type": "code",
   "execution_count": 6,
   "id": "1d9d49c8-e553-4ec8-8427-17ecc2f6d899",
   "metadata": {},
   "outputs": [
    {
     "name": "stdout",
     "output_type": "stream",
     "text": [
      "Average of total_bedrooms BEFORE fillna() = 537.871\n",
      "Average of total_bedrooms AFTER fillna() = 532.476\n"
     ]
    }
   ],
   "source": [
    "#avg_total_bedrooms = df[ 'total_bedrooms' ].mean( skipna=False )\n",
    "#df[ 'total_bedrooms' ] = df[ 'total_bedrooms' ].astype(float)\n",
    "originalDF = df\n",
    "df[ 'total_bedrooms' ] = pd.to_numeric( df[ 'total_bedrooms' ] , errors='coerce')\n",
    "avg_total_bedrooms = df[ 'total_bedrooms' ].mean()\n",
    "print( \"Average of total_bedrooms BEFORE fillna() = {:.3f}\".format( avg_total_bedrooms ) )\n",
    "\n",
    "originalDF[ 'total_bedrooms' ] = originalDF[ 'total_bedrooms' ].fillna( \"0\" )\n",
    "originalDF[ 'total_bedrooms' ] = pd.to_numeric( originalDF[ 'total_bedrooms' ] )\n",
    "avg_total_bedrooms = originalDF[ 'total_bedrooms' ].mean()\n",
    "print( \"Average of total_bedrooms AFTER fillna() = {:.3f}\".format( avg_total_bedrooms ) )\n",
    "\n",
    "#df = df.fillna( \"\" )\n",
    "#avg_total_bedrooms = df[ 'total_bedrooms' ].mean()\n",
    "#print( \"Average of total_bedrooms AFTER fillna() = {}\".format( avg_total_bedrooms) )\n",
    "#df.isnull().sum()"
   ]
  },
  {
   "cell_type": "markdown",
   "id": "923fae4a-1a82-4f8d-805f-ba53a1fcf512",
   "metadata": {},
   "source": [
    "Question 7\n",
    "\n",
    "    Select all the options located on islands.\n",
    "    Select only columns housing_median_age, total_rooms, total_bedrooms.\n",
    "    Get the underlying NumPy array. Let's call it X.\n",
    "    Compute matrix-matrix multiplication between the transpose of X and X. To get the transpose, use X.T. Let's call the result XTX.\n",
    "    Compute the inverse of XTX.\n",
    "    Create an array y with values [950, 1300, 800, 1000, 1300].\n",
    "    Multiply the inverse of XTX with the transpose of X, and then multiply the result by y. Call the result w.\n",
    "    What's the value of the last element of w?\n"
   ]
  },
  {
   "cell_type": "code",
   "execution_count": 7,
   "id": "be3218b7-3845-42f7-8f91-1d2039fe2f0c",
   "metadata": {},
   "outputs": [
    {
     "name": "stdout",
     "output_type": "stream",
     "text": [
      "Matrix X\n",
      "[[  27. 1675.  521.]\n",
      " [  52. 2359.  591.]\n",
      " [  52. 2127.  512.]\n",
      " [  52.  996.  264.]\n",
      " [  29.  716.  214.]]\n",
      "Matrix X.T Transpose of X\n",
      "[[  27.   52.   52.   52.   29.]\n",
      " [1675. 2359. 2127.  996.  716.]\n",
      " [ 521.  591.  512.  264.  214.]]\n",
      "Matrix XTX\n",
      "[[9.6820000e+03 3.5105300e+05 9.1357000e+04]\n",
      " [3.5105300e+05 1.4399307e+07 3.7720360e+06]\n",
      " [9.1357000e+04 3.7720360e+06 9.9835800e+05]]\n",
      "Matrix invesrse of XTX (invXTX)\n",
      "[[ 9.19403586e-04 -3.66412216e-05  5.43072261e-05]\n",
      " [-3.66412216e-05  8.23303633e-06 -2.77534485e-05]\n",
      " [ 5.43072261e-05 -2.77534485e-05  1.00891325e-04]]\n",
      "Matrix  W\n",
      "[23.12330961 -1.48124183  5.69922946]\n"
     ]
    }
   ],
   "source": [
    "#df['ocean_proximity'] .unique()\n",
    "islandDF = df [ df['ocean_proximity'] == 'ISLAND' ]\n",
    "#print( islandDF[ ['housing_median_age', 'total_rooms', 'total_bedrooms' ] ])\n",
    "X = islandDF[ ['housing_median_age', 'total_rooms', 'total_bedrooms' ] ].to_numpy()\n",
    "print( 'Matrix X' )\n",
    "print( X )\n",
    "transpX = X.T\n",
    "print( 'Matrix X.T Transpose of X' )\n",
    "print( transpX )\n",
    "XTX = np.matmul( transpX, X )\n",
    "print( 'Matrix XTX' )\n",
    "print( XTX )\n",
    "invXTX = np.linalg.inv( XTX )\n",
    "print( 'Matrix invesrse of XTX (invXTX)' )\n",
    "print( invXTX )\n",
    "prod2 = np.matmul( invXTX, transpX )\n",
    "Y = np.array( [950, 1300, 800, 1000, 1300] )\n",
    "W = np.matmul( prod2, Y )\n",
    "print( 'Matrix  W' )\n",
    "print( W )\n"
   ]
  },
  {
   "cell_type": "code",
   "execution_count": null,
   "id": "016fd10c-f5e8-48df-bcd1-20a303fcf584",
   "metadata": {},
   "outputs": [],
   "source": []
  }
 ],
 "metadata": {
  "kernelspec": {
   "display_name": "Python 3 (ipykernel)",
   "language": "python",
   "name": "python3"
  },
  "language_info": {
   "codemirror_mode": {
    "name": "ipython",
    "version": 3
   },
   "file_extension": ".py",
   "mimetype": "text/x-python",
   "name": "python",
   "nbconvert_exporter": "python",
   "pygments_lexer": "ipython3",
   "version": "3.10.12"
  }
 },
 "nbformat": 4,
 "nbformat_minor": 5
}
