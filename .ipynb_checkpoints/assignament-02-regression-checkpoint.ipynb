{
 "cells": [
  {
   "cell_type": "markdown",
   "id": "b87b0d76-3813-4647-b41f-c1ea84c5d467",
   "metadata": {},
   "source": [
    "Load the data"
   ]
  },
  {
   "cell_type": "markdown",
   "id": "687956fc-a8ba-4833-ba7d-f8ea9fbf452a",
   "metadata": {},
   "source": [
    "wget https://raw.githubusercontent.com/alexeygrigorev/datasets/master/housing.csv"
   ]
  },
  {
   "cell_type": "code",
   "execution_count": 1,
   "id": "bbd32ffb-ba04-467d-84d4-1a5469e1470f",
   "metadata": {},
   "outputs": [
    {
     "name": "stdout",
     "output_type": "stream",
     "text": [
      "Pandas version = 2.1.0\n",
      "\n"
     ]
    },
    {
     "data": {
      "text/plain": [
       "<bound method NDFrame.head of        longitude  latitude  housing_median_age  total_rooms  total_bedrooms  \\\n",
       "0        -122.23     37.88                41.0        880.0           129.0   \n",
       "1        -122.22     37.86                21.0       7099.0          1106.0   \n",
       "2        -122.24     37.85                52.0       1467.0           190.0   \n",
       "3        -122.25     37.85                52.0       1274.0           235.0   \n",
       "4        -122.25     37.85                52.0       1627.0           280.0   \n",
       "...          ...       ...                 ...          ...             ...   \n",
       "20635    -121.09     39.48                25.0       1665.0           374.0   \n",
       "20636    -121.21     39.49                18.0        697.0           150.0   \n",
       "20637    -121.22     39.43                17.0       2254.0           485.0   \n",
       "20638    -121.32     39.43                18.0       1860.0           409.0   \n",
       "20639    -121.24     39.37                16.0       2785.0           616.0   \n",
       "\n",
       "       population  households  median_income  median_house_value  \\\n",
       "0           322.0       126.0         8.3252            452600.0   \n",
       "1          2401.0      1138.0         8.3014            358500.0   \n",
       "2           496.0       177.0         7.2574            352100.0   \n",
       "3           558.0       219.0         5.6431            341300.0   \n",
       "4           565.0       259.0         3.8462            342200.0   \n",
       "...           ...         ...            ...                 ...   \n",
       "20635       845.0       330.0         1.5603             78100.0   \n",
       "20636       356.0       114.0         2.5568             77100.0   \n",
       "20637      1007.0       433.0         1.7000             92300.0   \n",
       "20638       741.0       349.0         1.8672             84700.0   \n",
       "20639      1387.0       530.0         2.3886             89400.0   \n",
       "\n",
       "      ocean_proximity  \n",
       "0            NEAR BAY  \n",
       "1            NEAR BAY  \n",
       "2            NEAR BAY  \n",
       "3            NEAR BAY  \n",
       "4            NEAR BAY  \n",
       "...               ...  \n",
       "20635          INLAND  \n",
       "20636          INLAND  \n",
       "20637          INLAND  \n",
       "20638          INLAND  \n",
       "20639          INLAND  \n",
       "\n",
       "[20640 rows x 10 columns]>"
      ]
     },
     "execution_count": 1,
     "metadata": {},
     "output_type": "execute_result"
    }
   ],
   "source": [
    "import pandas as pd\n",
    "import numpy as np\n",
    "\n",
    "import seaborn as sns\n",
    "from matplotlib import pyplot as plt\n",
    "%matplotlib inline\n",
    "\n",
    "pandas_version = pd.__version__\n",
    "\n",
    "print( 'Pandas version = ' + pandas_version + '\\n' )\n",
    "\n",
    "df = pd.read_csv('housing.csv')\n",
    "\n",
    "df.head"
   ]
  },
  {
   "cell_type": "markdown",
   "id": "4c7f2544-8683-454d-9d8f-929cdfbf8e7e",
   "metadata": {},
   "source": [
    " Keep only the records where ocean_proximity is either '<1H OCEAN' or 'INLAND'"
   ]
  },
  {
   "cell_type": "code",
   "execution_count": 2,
   "id": "7f34763f-abc9-41f6-9d8e-3db8e0ad7c8d",
   "metadata": {},
   "outputs": [],
   "source": [
    "filtered_df = df[ ( df['ocean_proximity'] == '<1H OCEAN' ) | ( df['ocean_proximity'] == 'INLAND' ) ]"
   ]
  },
  {
   "cell_type": "markdown",
   "id": "0846ec1e-04b1-4d18-9cfa-baca8f0de9e1",
   "metadata": {},
   "source": [
    "Next, use only the following columns:\n",
    "\n",
    "    'latitude',\n",
    "    'longitude',\n",
    "    'housing_median_age',\n",
    "    'total_rooms',\n",
    "    'total_bedrooms',\n",
    "    'population',\n",
    "    'households',\n",
    "    'median_income',\n",
    "    'median_house_value'\n"
   ]
  },
  {
   "cell_type": "code",
   "execution_count": 3,
   "id": "36c87bd5-0235-4603-9d5f-59a0a23c2e06",
   "metadata": {},
   "outputs": [
    {
     "data": {
      "text/html": [
       "<div>\n",
       "<style scoped>\n",
       "    .dataframe tbody tr th:only-of-type {\n",
       "        vertical-align: middle;\n",
       "    }\n",
       "\n",
       "    .dataframe tbody tr th {\n",
       "        vertical-align: top;\n",
       "    }\n",
       "\n",
       "    .dataframe thead th {\n",
       "        text-align: right;\n",
       "    }\n",
       "</style>\n",
       "<table border=\"1\" class=\"dataframe\">\n",
       "  <thead>\n",
       "    <tr style=\"text-align: right;\">\n",
       "      <th></th>\n",
       "      <th>latitude</th>\n",
       "      <th>longitude</th>\n",
       "      <th>housing_median_age</th>\n",
       "      <th>total_rooms</th>\n",
       "      <th>total_bedrooms</th>\n",
       "      <th>population</th>\n",
       "      <th>households</th>\n",
       "      <th>median_income</th>\n",
       "      <th>median_house_value</th>\n",
       "    </tr>\n",
       "  </thead>\n",
       "  <tbody>\n",
       "    <tr>\n",
       "      <th>701</th>\n",
       "      <td>37.64</td>\n",
       "      <td>-121.97</td>\n",
       "      <td>32.0</td>\n",
       "      <td>1283.0</td>\n",
       "      <td>194.0</td>\n",
       "      <td>485.0</td>\n",
       "      <td>171.0</td>\n",
       "      <td>6.0574</td>\n",
       "      <td>431000.0</td>\n",
       "    </tr>\n",
       "    <tr>\n",
       "      <th>830</th>\n",
       "      <td>37.61</td>\n",
       "      <td>-121.99</td>\n",
       "      <td>9.0</td>\n",
       "      <td>3666.0</td>\n",
       "      <td>711.0</td>\n",
       "      <td>2341.0</td>\n",
       "      <td>703.0</td>\n",
       "      <td>4.6458</td>\n",
       "      <td>217000.0</td>\n",
       "    </tr>\n",
       "    <tr>\n",
       "      <th>859</th>\n",
       "      <td>37.57</td>\n",
       "      <td>-121.97</td>\n",
       "      <td>21.0</td>\n",
       "      <td>4342.0</td>\n",
       "      <td>783.0</td>\n",
       "      <td>2172.0</td>\n",
       "      <td>789.0</td>\n",
       "      <td>4.6146</td>\n",
       "      <td>247600.0</td>\n",
       "    </tr>\n",
       "    <tr>\n",
       "      <th>860</th>\n",
       "      <td>37.58</td>\n",
       "      <td>-121.96</td>\n",
       "      <td>15.0</td>\n",
       "      <td>3575.0</td>\n",
       "      <td>597.0</td>\n",
       "      <td>1777.0</td>\n",
       "      <td>559.0</td>\n",
       "      <td>5.7192</td>\n",
       "      <td>283500.0</td>\n",
       "    </tr>\n",
       "    <tr>\n",
       "      <th>861</th>\n",
       "      <td>37.58</td>\n",
       "      <td>-121.98</td>\n",
       "      <td>20.0</td>\n",
       "      <td>4126.0</td>\n",
       "      <td>1031.0</td>\n",
       "      <td>2079.0</td>\n",
       "      <td>975.0</td>\n",
       "      <td>3.6832</td>\n",
       "      <td>216900.0</td>\n",
       "    </tr>\n",
       "    <tr>\n",
       "      <th>...</th>\n",
       "      <td>...</td>\n",
       "      <td>...</td>\n",
       "      <td>...</td>\n",
       "      <td>...</td>\n",
       "      <td>...</td>\n",
       "      <td>...</td>\n",
       "      <td>...</td>\n",
       "      <td>...</td>\n",
       "      <td>...</td>\n",
       "    </tr>\n",
       "    <tr>\n",
       "      <th>20635</th>\n",
       "      <td>39.48</td>\n",
       "      <td>-121.09</td>\n",
       "      <td>25.0</td>\n",
       "      <td>1665.0</td>\n",
       "      <td>374.0</td>\n",
       "      <td>845.0</td>\n",
       "      <td>330.0</td>\n",
       "      <td>1.5603</td>\n",
       "      <td>78100.0</td>\n",
       "    </tr>\n",
       "    <tr>\n",
       "      <th>20636</th>\n",
       "      <td>39.49</td>\n",
       "      <td>-121.21</td>\n",
       "      <td>18.0</td>\n",
       "      <td>697.0</td>\n",
       "      <td>150.0</td>\n",
       "      <td>356.0</td>\n",
       "      <td>114.0</td>\n",
       "      <td>2.5568</td>\n",
       "      <td>77100.0</td>\n",
       "    </tr>\n",
       "    <tr>\n",
       "      <th>20637</th>\n",
       "      <td>39.43</td>\n",
       "      <td>-121.22</td>\n",
       "      <td>17.0</td>\n",
       "      <td>2254.0</td>\n",
       "      <td>485.0</td>\n",
       "      <td>1007.0</td>\n",
       "      <td>433.0</td>\n",
       "      <td>1.7000</td>\n",
       "      <td>92300.0</td>\n",
       "    </tr>\n",
       "    <tr>\n",
       "      <th>20638</th>\n",
       "      <td>39.43</td>\n",
       "      <td>-121.32</td>\n",
       "      <td>18.0</td>\n",
       "      <td>1860.0</td>\n",
       "      <td>409.0</td>\n",
       "      <td>741.0</td>\n",
       "      <td>349.0</td>\n",
       "      <td>1.8672</td>\n",
       "      <td>84700.0</td>\n",
       "    </tr>\n",
       "    <tr>\n",
       "      <th>20639</th>\n",
       "      <td>39.37</td>\n",
       "      <td>-121.24</td>\n",
       "      <td>16.0</td>\n",
       "      <td>2785.0</td>\n",
       "      <td>616.0</td>\n",
       "      <td>1387.0</td>\n",
       "      <td>530.0</td>\n",
       "      <td>2.3886</td>\n",
       "      <td>89400.0</td>\n",
       "    </tr>\n",
       "  </tbody>\n",
       "</table>\n",
       "<p>15687 rows × 9 columns</p>\n",
       "</div>"
      ],
      "text/plain": [
       "       latitude  longitude  housing_median_age  total_rooms  total_bedrooms  \\\n",
       "701       37.64    -121.97                32.0       1283.0           194.0   \n",
       "830       37.61    -121.99                 9.0       3666.0           711.0   \n",
       "859       37.57    -121.97                21.0       4342.0           783.0   \n",
       "860       37.58    -121.96                15.0       3575.0           597.0   \n",
       "861       37.58    -121.98                20.0       4126.0          1031.0   \n",
       "...         ...        ...                 ...          ...             ...   \n",
       "20635     39.48    -121.09                25.0       1665.0           374.0   \n",
       "20636     39.49    -121.21                18.0        697.0           150.0   \n",
       "20637     39.43    -121.22                17.0       2254.0           485.0   \n",
       "20638     39.43    -121.32                18.0       1860.0           409.0   \n",
       "20639     39.37    -121.24                16.0       2785.0           616.0   \n",
       "\n",
       "       population  households  median_income  median_house_value  \n",
       "701         485.0       171.0         6.0574            431000.0  \n",
       "830        2341.0       703.0         4.6458            217000.0  \n",
       "859        2172.0       789.0         4.6146            247600.0  \n",
       "860        1777.0       559.0         5.7192            283500.0  \n",
       "861        2079.0       975.0         3.6832            216900.0  \n",
       "...           ...         ...            ...                 ...  \n",
       "20635       845.0       330.0         1.5603             78100.0  \n",
       "20636       356.0       114.0         2.5568             77100.0  \n",
       "20637      1007.0       433.0         1.7000             92300.0  \n",
       "20638       741.0       349.0         1.8672             84700.0  \n",
       "20639      1387.0       530.0         2.3886             89400.0  \n",
       "\n",
       "[15687 rows x 9 columns]"
      ]
     },
     "execution_count": 3,
     "metadata": {},
     "output_type": "execute_result"
    }
   ],
   "source": [
    "features = [ \n",
    "            'latitude',\n",
    "            'longitude',\n",
    "            'housing_median_age',\n",
    "            'total_rooms',\n",
    "            'total_bedrooms',\n",
    "            'population',\n",
    "            'households',\n",
    "            'median_income',\n",
    "            'median_house_value']\n",
    "filtered_df = filtered_df[ features ]\n",
    "filtered_df"
   ]
  },
  {
   "cell_type": "markdown",
   "id": "53368331-2f4a-4717-9905-a09fc2340b6b",
   "metadata": {},
   "source": [
    "Question 1\n",
    "There's one feature with missing values. What is it?\n",
    "\n",
    "Answer:  total_bedrooms\n"
   ]
  },
  {
   "cell_type": "code",
   "execution_count": 4,
   "id": "1add27a6-c352-4f5e-8ee3-e346eeb887da",
   "metadata": {},
   "outputs": [
    {
     "data": {
      "text/plain": [
       "latitude                0\n",
       "longitude               0\n",
       "housing_median_age      0\n",
       "total_rooms             0\n",
       "total_bedrooms        157\n",
       "population              0\n",
       "households              0\n",
       "median_income           0\n",
       "median_house_value      0\n",
       "dtype: int64"
      ]
     },
     "execution_count": 4,
     "metadata": {},
     "output_type": "execute_result"
    }
   ],
   "source": [
    "filtered_df.isnull().sum()\n"
   ]
  },
  {
   "cell_type": "markdown",
   "id": "25a9c3e4-265d-4126-89fb-58fb062274fe",
   "metadata": {},
   "source": [
    "Question 2\n",
    "What's the median (50% percentile) for variable 'population'?\n",
    "\n",
    "\n",
    "Answer: 1195"
   ]
  },
  {
   "cell_type": "code",
   "execution_count": 5,
   "id": "b2a28a13-e55e-419d-ad40-f43f7d4c3e6e",
   "metadata": {},
   "outputs": [
    {
     "data": {
      "text/plain": [
       "1195.0"
      ]
     },
     "execution_count": 5,
     "metadata": {},
     "output_type": "execute_result"
    }
   ],
   "source": [
    "filtered_df[ 'population' ].median()"
   ]
  },
  {
   "cell_type": "markdown",
   "id": "32db5388-431c-4463-9ae5-cef82fc350bf",
   "metadata": {},
   "source": [
    "Helper function for preparing data\n"
   ]
  },
  {
   "cell_type": "code",
   "execution_count": 6,
   "id": "c33eeaa2-cfd5-473d-829c-6161c12b4950",
   "metadata": {},
   "outputs": [],
   "source": [
    "def prepare_X(df):\n",
    "    df = df.copy()\n",
    "    features = base.copy()\n",
    "\n",
    "    filtered_df = df[ ( df['ocean_proximity'] == '<1H OCEAN' ) | ( df['ocean_proximity'] == 'INLAND' ) ]\n",
    "\n",
    "    features = [ \n",
    "            'latitude',\n",
    "            'longitude',\n",
    "            'housing_median_age',\n",
    "            'total_rooms',\n",
    "            'total_bedrooms',\n",
    "            'population',\n",
    "            'households',\n",
    "            'median_income',\n",
    "            'median_house_value'] \n",
    "    filtered_df = filtered_df[ features ]\n",
    "    \n",
    "    #df_num = df_num.fillna(0)\n",
    "    X = filtered_df.values\n",
    "    return X\n",
    "\n"
   ]
  },
  {
   "cell_type": "markdown",
   "id": "5fa14fc3-08d4-426c-baa9-7285ab5f8d4e",
   "metadata": {},
   "source": [
    "Prepare and split the dataset\n",
    "\n",
    "    Shuffle the dataset (the filtered one you created above), use seed 42.\n",
    "    Split your data in train/val/test sets, with 60%/20%/20% distribution.\n",
    "    Apply the log transformation to the median_house_value variable using the np.log1p() function.\n"
   ]
  },
  {
   "cell_type": "code",
   "execution_count": 7,
   "id": "d8c8b2eb-6280-422a-be50-1aee965af64a",
   "metadata": {},
   "outputs": [],
   "source": [
    "np.random.seed(42)\n",
    "\n",
    "n = len(filtered_df)\n",
    "\n",
    "n_val = int(0.2 * n)\n",
    "n_test = int(0.2 * n)\n",
    "n_train = n - (n_val + n_test)\n",
    "\n",
    "idx = np.arange(n)\n",
    "np.random.shuffle(idx)\n",
    "\n",
    "df_shuffled = filtered_df.iloc[idx]\n",
    "\n",
    "df_train = df_shuffled.iloc[:n_train].copy()\n",
    "df_val = df_shuffled.iloc[n_train:n_train+n_val].copy()\n",
    "df_test = df_shuffled.iloc[n_train+n_val:].copy()\n",
    "\n",
    "# Split done \n",
    "\n",
    "y_train_orig = df_train.median_house_value.values\n",
    "y_val_orig = df_val.median_house_value.values\n",
    "y_test_orig = df_test.median_house_value.values\n",
    "\n",
    "y_train = np.log1p(df_train.median_house_value.values)\n",
    "y_val = np.log1p(df_val.median_house_value.values)\n",
    "y_test = np.log1p(df_test.median_house_value.values)\n",
    "\n",
    "del df_train['median_house_value']\n",
    "del df_val['median_house_value']\n",
    "del df_test['median_house_value']\n",
    "\n",
    "\n"
   ]
  },
  {
   "cell_type": "markdown",
   "id": "a4848a1d-663a-4d78-9e5e-449727acd5c4",
   "metadata": {},
   "source": [
    "Question 3\n",
    "\n",
    "    We need to deal with missing values for the column from Q1.\n",
    "    We have two options: fill it with 0 or with the mean of this variable.\n",
    "    Try both options. For each, train a linear regression model without regularization using the code from the lessons.\n",
    "    For computing the mean, use the training only!\n"
   ]
  },
  {
   "cell_type": "code",
   "execution_count": 8,
   "id": "841561f5-0449-47e3-8cc5-948838f5e0c4",
   "metadata": {},
   "outputs": [
    {
     "name": "stdout",
     "output_type": "stream",
     "text": [
      "mean_total_bedrooms_train =  542.552956325786\n"
     ]
    }
   ],
   "source": [
    "mean_total_bedrooms_train = df_train[ 'total_bedrooms' ].mean(skipna=True)\n",
    "print( \"mean_total_bedrooms_train = \",  mean_total_bedrooms_train)\n",
    "\n",
    "filled_with_zero_df_train = df_train.copy()\n",
    "filled_with_zero_df_train.fillna(0, inplace=True)\n",
    "filled_with_zero_X_train = filled_with_zero_df_train.values\n",
    "\n",
    "filled_with_mean_df_train = df_train.copy()\n",
    "filled_with_mean_df_train.fillna( mean_total_bedrooms_train, inplace=True)\n",
    "filled_with_mean_X_train = filled_with_mean_df_train.values"
   ]
  },
  {
   "cell_type": "markdown",
   "id": "b5c9d1b3-67c9-4d3e-b9a2-72f5d1258ee9",
   "metadata": {},
   "source": [
    "Question 3 - continuation\n",
    "Use the validation dataset to evaluate the models and compare the RMSE of each option.\n",
    "    Round the RMSE scores to 2 decimal digits using round(score, 2)\n",
    "    Which option gives better RMSE?\n",
    "\n",
    "Answer: Both are equally good"
   ]
  },
  {
   "cell_type": "code",
   "execution_count": 9,
   "id": "9158c685-7770-4839-b7df-8b42ac3b8bf4",
   "metadata": {},
   "outputs": [
    {
     "name": "stdout",
     "output_type": "stream",
     "text": [
      "Filled with zero rmse =  0.34\n",
      "Filled withwmean rmse =  0.34\n"
     ]
    }
   ],
   "source": [
    "def train_linear_regression(X, y):\n",
    "    ones = np.ones(X.shape[0])\n",
    "    X = np.column_stack([ones, X])\n",
    "\n",
    "    XTX = X.T.dot(X)\n",
    "    XTX_inv = np.linalg.inv(XTX)\n",
    "    w = XTX_inv.dot(X.T).dot(y)\n",
    "    \n",
    "    return w[0], w[1:]\n",
    "\n",
    "def rmse(y, y_pred):\n",
    "    error = y_pred - y\n",
    "    mse = (error ** 2).mean()\n",
    "    return np.sqrt(mse)\n",
    "\n",
    "\n",
    "filled_with_zero_w_0, filled_with_zero_w = train_linear_regression(filled_with_zero_X_train, y_train)\n",
    "filled_with_zero_y_pred = filled_with_zero_w_0 + filled_with_zero_X_train.dot(filled_with_zero_w)\n",
    "filled_with_zero_rmse_val = round( rmse(y_train, filled_with_zero_y_pred), 2 )\n",
    "\n",
    "print(\"Filled with zero rmse = \", filled_with_zero_rmse_val)\n",
    "\n",
    "filled_with_mean_w_0, filled_with_mean_w = train_linear_regression(filled_with_mean_X_train, y_train)\n",
    "filled_with_mean_y_pred = filled_with_mean_w_0 + filled_with_mean_X_train.dot(filled_with_mean_w)\n",
    "rmse(y_train, filled_with_mean_y_pred)\n",
    "filled_with_mean_rmse_val = round( rmse(y_train, filled_with_mean_y_pred), 2 )\n",
    "\n",
    "print(\"Filled withwmean rmse = \", filled_with_mean_rmse_val)\n"
   ]
  },
  {
   "cell_type": "markdown",
   "id": "37a8bf60-b93b-4a99-924a-33e605dd01c9",
   "metadata": {},
   "source": [
    "Question 4\n",
    "    Now let's train a regularized linear regression.\n",
    "    For this question, fill the NAs with 0.\n",
    "    Try different values of r from this list: [0, 0.000001, 0.0001, 0.001, 0.01, 0.1, 1, 5, 10].\n",
    "    Use RMSE to evaluate the model on the validation dataset.\n",
    "    Round the RMSE scores to 2 decimal digits.\n",
    "    Which r gives the best RMSE?\n",
    "\n",
    "Answer: 0. There are multiple options, smallest is zero.\n"
   ]
  },
  {
   "cell_type": "code",
   "execution_count": 10,
   "id": "4e463df4-f851-49aa-9c9a-064009b7d36d",
   "metadata": {},
   "outputs": [
    {
     "name": "stdout",
     "output_type": "stream",
     "text": [
      "0 =>  0.34\n",
      "1e-06 =>  0.34\n",
      "0.0001 =>  0.34\n",
      "0.001 =>  0.34\n",
      "0.01 =>  0.34\n",
      "0.1 =>  0.34\n",
      "1 =>  0.34\n",
      "5 =>  0.35\n",
      "10 =>  0.35\n"
     ]
    }
   ],
   "source": [
    "def train_linear_regression_reg(X, y, r=0.0):\n",
    "    ones = np.ones(X.shape[0])\n",
    "    X = np.column_stack([ones, X])\n",
    "\n",
    "    XTX = X.T.dot(X)\n",
    "    reg = r * np.eye(XTX.shape[0])\n",
    "    XTX = XTX + reg\n",
    "\n",
    "    XTX_inv = np.linalg.inv(XTX)\n",
    "    w = XTX_inv.dot(X.T).dot(y)\n",
    "    \n",
    "    return w[0], w[1:]\n",
    "\n",
    "X_train = filled_with_zero_X_train\n",
    "filled_with_zero_df_val = df_val.copy()\n",
    "filled_with_zero_df_val.fillna(0, inplace=True)\n",
    "X_val = filled_with_zero_df_val.values \n",
    "#X_val = df_val.values\n",
    "\n",
    "for r in [0, 0.000001, 0.0001, 0.001, 0.01, 0.1, 1, 5, 10]:\n",
    "    w_0, w = train_linear_regression_reg(X_train, y_train, r=r)\n",
    "    y_pred = w_0 + X_val.dot(w)\n",
    "    print('%s => ' %r, round( rmse(y_val, y_pred), 2 ) )\n"
   ]
  },
  {
   "cell_type": "markdown",
   "id": "19be0729-1333-4b1d-a76a-147969b5bde2",
   "metadata": {},
   "source": [
    "Question 5\n",
    "\n",
    "    We used seed 42 for splitting the data. Let's find out how selecting the seed influences our score.\n",
    "    Try different seed values: [0, 1, 2, 3, 4, 5, 6, 7, 8, 9].\n",
    "    For each seed, do the train/validation/test split with 60%/20%/20% distribution.\n",
    "    Fill the missing values with 0 and train a model without regularization.\n",
    "    For each seed, evaluate the model on the validation dataset and collect the RMSE scores.\n",
    "    What's the standard deviation of all the scores? To compute the standard deviation, use np.std.\n",
    "    Round the result to 3 decimal digits (round(std, 3))\n",
    "\n",
    "What's the value of std?\n",
    "\n",
    "Answer: Standar Devviation is 0.005\n",
    "    0 =>  0.3377387160043232\n",
    "    1 =>  0.3377999353665378\n",
    "    2 =>  0.3384287006753424\n",
    "    3 =>  0.3320049468303904\n",
    "    4 =>  0.3394451862555887\n",
    "    5 =>  0.34338197052659875\n",
    "    6 =>  0.3385330211769949\n",
    "    7 =>  0.34687476972995646\n",
    "    8 =>  0.35127368659627967\n",
    "    9 =>  0.33415582665206545\n"
   ]
  },
  {
   "cell_type": "code",
   "execution_count": 11,
   "id": "6b2fa62b-a0eb-411e-ba02-3ccd33b1cf0f",
   "metadata": {},
   "outputs": [
    {
     "name": "stdout",
     "output_type": "stream",
     "text": [
      "0 =>  0.3377387160043232\n",
      "1 =>  0.3377999353665378\n",
      "2 =>  0.3384287006753424\n",
      "3 =>  0.3320049468303904\n",
      "4 =>  0.3394451862555887\n",
      "5 =>  0.34338197052659875\n",
      "6 =>  0.3385330211769949\n",
      "7 =>  0.34687476972995646\n",
      "8 =>  0.35127368659627967\n",
      "9 =>  0.33415582665206545\n",
      "Standard deviation of all rmse =  0.005\n"
     ]
    }
   ],
   "source": [
    "\n",
    "\n",
    "def prepare_train_val_test_data( df, seed ):\n",
    "    np.random.seed(seed)\n",
    "    n = len( df )\n",
    "\n",
    "    n_val = int(0.2 * n)\n",
    "    n_test = int(0.2 * n)\n",
    "    n_train = n - (n_val + n_test)\n",
    "\n",
    "    idx = np.arange(n)\n",
    "    np.random.shuffle(idx)\n",
    "\n",
    "    df_shuffled = df.iloc[idx]\n",
    "\n",
    "    df_train = df_shuffled.iloc[:n_train].copy()\n",
    "    df_val = df_shuffled.iloc[n_train:n_train+n_val].copy()\n",
    "    df_test = df_shuffled.iloc[n_train+n_val:].copy()\n",
    "\n",
    "    # Split done \n",
    "\n",
    "    y_train_orig = df_train.median_house_value.values\n",
    "    y_val_orig = df_val.median_house_value.values\n",
    "    y_test_orig = df_test.median_house_value.values\n",
    "\n",
    "    y_train = np.log1p(df_train.median_house_value.values)\n",
    "    y_val = np.log1p(df_val.median_house_value.values)\n",
    "    y_test = np.log1p(df_test.median_house_value.values)\n",
    "\n",
    "    del df_train['median_house_value']\n",
    "    del df_val['median_house_value']\n",
    "    del df_test['median_house_value']\n",
    "\n",
    "    df_train.fillna(0, inplace=True)\n",
    "    df_val.fillna(0, inplace=True)\n",
    "    df_test.fillna(0, inplace=True)\n",
    "\n",
    "    return df_train.values , df_val.values, df_test.values, y_train, y_val, y_test\n",
    "\n",
    "rmse_score_list = []\n",
    "for seed in [0, 1, 2, 3, 4, 5, 6, 7, 8, 9]:\n",
    "    X_train, X_val, X_test, y_train, y_val, y_test = prepare_train_val_test_data( filtered_df, seed )\n",
    "\n",
    "    w_0, w = train_linear_regression(X_train, y_train,)\n",
    "    y_pred = w_0 + X_val.dot(w)\n",
    "    crt_rmse = rmse(y_val, y_pred)\n",
    "    print('%s => ' %seed, crt_rmse )\n",
    "    rmse_score_list.append( crt_rmse )\n",
    "\n",
    "scores_array = np.array( rmse_score_list )\n",
    "standard_deviation = np.std(  scores_array )\n",
    "print( \"Standard deviation of all rmse = \", round( standard_deviation, 3) )\n"
   ]
  },
  {
   "cell_type": "markdown",
   "id": "10bac0d9-f6b1-4096-9dd9-c06c6b5bc085",
   "metadata": {},
   "source": [
    "Question 6\n",
    "\n",
    "    Split the dataset like previously, use seed 9.\n",
    "    Combine train and validation datasets.\n",
    "    Fill the missing values with 0 and train a model with r=0.001.\n",
    "    What's the RMSE on the test dataset?\n",
    "\n",
    "Answer: RMSE on test data %s =>  0.33498993366147445"
   ]
  },
  {
   "cell_type": "code",
   "execution_count": 12,
   "id": "4a34ff3a-0c61-47f9-b950-b57a6899ba2a",
   "metadata": {},
   "outputs": [
    {
     "name": "stdout",
     "output_type": "stream",
     "text": [
      "RMSE on test data %s =>  0.33498993366147445\n"
     ]
    }
   ],
   "source": [
    "def prepare_train_test_data( df, seed ):\n",
    "    np.random.seed(seed)\n",
    "    n = len( df )\n",
    "\n",
    "    n_val = int(0.2 * n)\n",
    "    n_test = int(0.2 * n)\n",
    "    n_train = n - (n_val + n_test)\n",
    "\n",
    "    idx = np.arange(n)\n",
    "    np.random.shuffle(idx)\n",
    "\n",
    "    df_shuffled = df.iloc[idx]\n",
    "\n",
    "    df_train = df_shuffled.iloc[:n_train].copy()\n",
    "    df_val = df_shuffled.iloc[n_train:n_train+n_val].copy()\n",
    "\n",
    "    frames = [ df_train, df_val ]\n",
    "    df_combined = pd.concat(frames)\n",
    "    df_test = df_shuffled.iloc[n_train+n_val:].copy()\n",
    "\n",
    "    # Split done \n",
    "\n",
    "    y_combined_orig = df_combined.median_house_value.values\n",
    "    y_test_orig = df_test.median_house_value.values\n",
    "\n",
    "    y_combined = np.log1p(df_combined.median_house_value.values)\n",
    "    y_test = np.log1p(df_test.median_house_value.values)\n",
    "\n",
    "    del df_combined['median_house_value']\n",
    "    del df_test['median_house_value']\n",
    "\n",
    "    df_combined.fillna(0, inplace=True)\n",
    "    df_test.fillna(0, inplace=True)\n",
    "\n",
    "    return df_combined.values, df_test.values, y_combined, y_test\n",
    "\n",
    "seed = 9\n",
    "r = 0.001\n",
    "\n",
    "X_combined, X_test, y_combined, y_test = prepare_train_test_data( filtered_df, seed )\n",
    "#X_combined = np.concatenate( X_train, X_val )\n",
    "#y_combined = np.concatenate( y_train, y_val )\n",
    "\n",
    "w_0, w = train_linear_regression_reg(X_combined, y_combined, r=r)\n",
    "y_pred = w_0 + X_test.dot(w)\n",
    "print(\"RMSE on test data %s => \", rmse(y_test, y_pred) )\n"
   ]
  },
  {
   "cell_type": "code",
   "execution_count": null,
   "id": "a043a393-87c6-4ab0-8406-f4b2a131d933",
   "metadata": {},
   "outputs": [],
   "source": []
  }
 ],
 "metadata": {
  "kernelspec": {
   "display_name": "Python 3 (ipykernel)",
   "language": "python",
   "name": "python3"
  },
  "language_info": {
   "codemirror_mode": {
    "name": "ipython",
    "version": 3
   },
   "file_extension": ".py",
   "mimetype": "text/x-python",
   "name": "python",
   "nbconvert_exporter": "python",
   "pygments_lexer": "ipython3",
   "version": "3.10.12"
  }
 },
 "nbformat": 4,
 "nbformat_minor": 5
}
